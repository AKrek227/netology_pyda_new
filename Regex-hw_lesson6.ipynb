{
 "cells": [
  {
   "cell_type": "markdown",
   "metadata": {},
   "source": [
    "# Домашнее задание к лекции \"Регулярные выражения\"\n",
    "Для зачета необходимо выполнить 4 задания.  \n",
    "Для зачета с отличием – все."
   ]
  },
  {
   "cell_type": "markdown",
   "metadata": {},
   "source": [
    "## Задание 1"
   ]
  },
  {
   "cell_type": "markdown",
   "metadata": {},
   "source": [
    "Напишите функцию, которая принимает на вход строку и проверяет является ли она валидным транспортным номером. Если да, то функция должна возвращать отдельно номер и регион."
   ]
  },
  {
   "cell_type": "code",
   "execution_count": 7,
   "metadata": {},
   "outputs": [
    {
     "name": "stdout",
     "output_type": "stream",
     "text": [
      "Введите номер легкового автомобиля С065МК78RUS\n",
      "('065', '78')\n"
     ]
    }
   ],
   "source": [
    "def valid_auto(str):\n",
    "    import re\n",
    "    auto_number = input('Введите номер легкового автомобиля ')\n",
    "\n",
    "    t = r'([АВЕКМНОРСТУХ]{1})(\\d{3})([АВЕКМНОРСТУХ]{2})(\\d{2,3})(RUS)'\n",
    "\n",
    "    if re.match(t,auto_number):\n",
    "        x = re.findall('\\d{2,3}', auto_number)\n",
    "        return x[0], x[1]\n",
    "    else:\n",
    "        return ('Номер не является валидным')\n",
    "\n",
    "print(valid_auto(str))"
   ]
  },
  {
   "cell_type": "markdown",
   "metadata": {},
   "source": [
    "## Задание 2"
   ]
  },
  {
   "cell_type": "markdown",
   "metadata": {},
   "source": [
    "Напишите функцию, которая проверяет e-mail адрес на валидность по стандарту RFC822: http://www.w3.org/Protocols/rfc822/. Для этого постарайтесь написать (в крайнем случае найти) самый полный шаблон для проверки e-mail адресов через регулярное выражение. Разберитесь и напишите примеры, какие ваш шаблон может не охватить."
   ]
  },
  {
   "cell_type": "code",
   "execution_count": 78,
   "metadata": {},
   "outputs": [
    {
     "name": "stdout",
     "output_type": "stream",
     "text": [
      "Введите e-mail: del@list.ru\n",
      "The email del@list.ru is a valid email to RFC822 (simple e-mail)\n"
     ]
    }
   ],
   "source": [
    "def emailRFC822():\n",
    "    import re\n",
    "\n",
    "    e_mail = input('Введите e-mail: ')\n",
    "\n",
    "    regex_email_simple = '[A-Za-z0-9-_\\.\\+\\']+@[a-zA-Z0-9_]+\\.[a-zA-Z]{2,6}'\n",
    "    regex_email_extended = '[A-Za-z0-9-_\\.\\+\\' !#$%\\*\\-/=\\?\\^`~|{}\"]+@[A-Za-z0-9-_\\.\\+\\' !#$%\\*\\-/=\\?\\^`~|{}]+\\.[a-zA-Z]'\n",
    "    regex_email_ip = '[A-Za-z0-9-_\\.\\+\\' !#$%\\*\\-/=\\?\\^`~|{}]+@[0-9\\.]'\n",
    "\n",
    "    if re.match(regex_email_simple, e_mail):\n",
    "        return 'The email {} is a valid email to RFC822 (simple e-mail)'.format(e_mail)\n",
    "    elif re.match(regex_email_extended, e_mail):\n",
    "        return 'The email {} is a valid email to RFC822 (extended email)'.format(e_mail)\n",
    "    elif re.match(regex_email_ip, e_mail):\n",
    "        return 'The email {} is a valid email to RFC822 (ip email)'.format(e_mail)\n",
    "    else:\n",
    "        return 'The email {} is invalid to RFC822'.format(e_mail)\n",
    "        \n",
    "\n",
    "print(emailRFC822())        "
   ]
  },
  {
   "cell_type": "markdown",
   "metadata": {},
   "source": [
    "## Задание 3\n",
    "Напишите функцию, которая будет удалять все последовательные повторы слов из заданной строки."
   ]
  },
  {
   "cell_type": "code",
   "execution_count": 18,
   "metadata": {},
   "outputs": [
    {
     "name": "stdout",
     "output_type": "stream",
     "text": [
      "Введите текстовую строку: зима весна, лето, зима, год, год. весна\n",
      "['зима', 'весна', 'лето', 'год']\n"
     ]
    }
   ],
   "source": [
    "def double_word(str):\n",
    "    text_ = input('Введите текстовую строку: ')\n",
    "\n",
    "    import re\n",
    "    x = re.findall('[\\w]+', text_)\n",
    "\n",
    "    z = []\n",
    "\n",
    "    for el in x:\n",
    "        if el not in z:\n",
    "            z.append(el)\n",
    "    return z\n",
    "\n",
    "print(double_word(str))\n"
   ]
  },
  {
   "cell_type": "markdown",
   "metadata": {},
   "source": [
    "## Задание 4\n",
    "Напишите функцию, которая будет проверять номер сотового телефона на валидность, если он валиден, то переводить его в формат:   \n",
    "+7(xxx)-xxx-xx-xx  \n",
    "Постарайтесь предусмотреть как можно больше адекватных форматов изначального ввода номера.\n",
    "Примеры правильных и неправильных форматов:\n",
    "- +7 955 555-55-55;\n",
    "- 955555555;\n",
    "- 8(955)555-55-55;\n",
    "- +7 955 555 55 55;\n",
    "- 7(955) 555-55-55;\n",
    "- +7 955+555+55+55."
   ]
  },
  {
   "cell_type": "code",
   "execution_count": 55,
   "metadata": {},
   "outputs": [
    {
     "name": "stdout",
     "output_type": "stream",
     "text": [
      "Введите номер сотового телефона: 89169174079\n",
      "+7( 916 ) - 917 - 40 - 79\n",
      "None\n"
     ]
    }
   ],
   "source": [
    "def telefon(str):\n",
    "    tel_number = input('Введите номер сотового телефона: ')\n",
    "\n",
    "    import re\n",
    "\n",
    "    w = re.findall('\\d', tel_number)\n",
    "#    print(w)\n",
    "    w_1 = ''.join(w)\n",
    "#    print(w_1)\n",
    "\n",
    "    if len(w_1) == 10:\n",
    "        print('+7(',w_1[0:3],') -',w_1[3:6],'-',w_1[6:8],'-',w_1[8:10])\n",
    "    elif len(w_1) == 11:\n",
    "        print('+7(',w_1[1:4],') -',w_1[4:7],'-',w_1[7:9],'-',w_1[9:11])\n",
    "    else:\n",
    "        print('Не верно введен номер')\n",
    "\n",
    "print(telefon(str))"
   ]
  }
 ],
 "metadata": {
  "kernelspec": {
   "display_name": "Python 3",
   "language": "python",
   "name": "python3"
  },
  "language_info": {
   "codemirror_mode": {
    "name": "ipython",
    "version": 3
   },
   "file_extension": ".py",
   "mimetype": "text/x-python",
   "name": "python",
   "nbconvert_exporter": "python",
   "pygments_lexer": "ipython3",
   "version": "3.7.4"
  }
 },
 "nbformat": 4,
 "nbformat_minor": 2
}
