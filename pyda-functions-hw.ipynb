{
 "cells": [
  {
   "cell_type": "markdown",
   "metadata": {},
   "source": [
    "## Задание 1"
   ]
  },
  {
   "cell_type": "markdown",
   "metadata": {},
   "source": [
    "Дан список вида:"
   ]
  },
  {
   "cell_type": "code",
   "execution_count": 2,
   "metadata": {},
   "outputs": [],
   "source": [
    "data = [\n",
    "    [13, 25, 23, 34],\n",
    "    [45, 32, 44, 47],\n",
    "    [12, 33, 23, 95],\n",
    "    [13, 53, 34, 35]\n",
    "]"
   ]
  },
  {
   "cell_type": "code",
   "execution_count": 54,
   "metadata": {},
   "outputs": [
    {
     "name": "stdout",
     "output_type": "stream",
     "text": [
      "103\n"
     ]
    }
   ],
   "source": [
    "\n",
    "def diagonal_sum(list):\n",
    "    result = 0\n",
    "    i = 0\n",
    "\n",
    "    for element in list:\n",
    "        if i <= len(list):\n",
    "            result += element[i]\n",
    "            i += 1\n",
    "    return result\n",
    "\n",
    "print(diagonal_sum(data))"
   ]
  },
  {
   "cell_type": "markdown",
   "metadata": {},
   "source": [
    "Напишите функцию, которая возвращает сумму элементов на диагонали. Т. е. 13+32+23+35.  \n",
    "Список может быть любой длины, но всегда является \"квадратным\" (количество элементов во вложенных списках равно их количеству)."
   ]
  },
  {
   "cell_type": "markdown",
   "metadata": {},
   "source": [
    "## Задание 2"
   ]
  },
  {
   "cell_type": "markdown",
   "metadata": {},
   "source": [
    "Напишите функцию, возвращающую сумму первых n чисел Фибоначчи (для этого вам может понадобится ознакомиться с рекурсией)."
   ]
  },
  {
   "cell_type": "code",
   "execution_count": 4,
   "metadata": {},
   "outputs": [
    {
     "name": "stdout",
     "output_type": "stream",
     "text": [
      "Введите количество 1-х элементов, которые необходимо сложить в последовательности Фибоначчи (важно! последовательность начинается с 0): 10\n",
      "Сумма указанных элементов равна 88\n"
     ]
    }
   ],
   "source": [
    "\n",
    "def sum_fibonach(num):\n",
    "    list_fibonachi = [0,1]\n",
    "    i=2\n",
    "    if num <= 1:\n",
    "         return 0\n",
    "    else:\n",
    "        while num > len(list_fibonachi):\n",
    "            list_fibonachi.append(list_fibonachi[i-1] + list_fibonachi[i-2])\n",
    "            i += 1\n",
    "#           print(list_fibonachi)\n",
    "        result = sum(list_fibonachi)\n",
    "        return result\n",
    "\n",
    "input_num = int(input ('Введите количество 1-х элементов, которые необходимо сложить в последовательности Фибоначчи (важно! последовательность начинается с 0): '))\n",
    "print(f'Сумма указанных элементов равна {sum_fibonach(input_num)}')"
   ]
  },
  {
   "cell_type": "markdown",
   "metadata": {},
   "source": [
    "## Задание 3\n"
   ]
  },
  {
   "cell_type": "markdown",
   "metadata": {},
   "source": [
    "Напишите функцию, преобразующую произвольный список вида ['2018-01-01', 'yandex', 'cpc', 100] (он может быть любой длины) в словарь {'2018-01-01': {'yandex': {'cpc': 100}}}"
   ]
  },
  {
   "cell_type": "code",
   "execution_count": 19,
   "metadata": {},
   "outputs": [
    {
     "name": "stdout",
     "output_type": "stream",
     "text": [
      "{'2018-01-01': {'yandex': {'cpc': 100}}}\n"
     ]
    }
   ],
   "source": [
    "data = ['2018-01-01', 'yandex', 'cpc', 100] \n",
    "\n",
    "#result_dict = {}\n",
    "#dict_2 = {data[-2]:data[-1]}\n",
    "\n",
    "#i = 2\n",
    "\n",
    "#while i <= len(data):\n",
    "#    result_dict = {data[-i]:dict_2}\n",
    "#    dict_2 = result_dict\n",
    "#    i +=1\n",
    "\n",
    "#print(dict_2)\n",
    "\n",
    "\n",
    "def dict_in_dict(list):\n",
    "    result_dict = {}\n",
    "    dict_2 = {data[-2]:data[-1]}\n",
    "\n",
    "    i = 3\n",
    "\n",
    "    while i <= len(data):\n",
    "        result_dict = {data[-i]:dict_2}\n",
    "        dict_2 = result_dict\n",
    "        i +=1\n",
    "    return dict_2\n",
    "\n",
    "\n",
    "print(dict_in_dict(data))\n",
    "\n",
    "\n",
    "\n"
   ]
  },
  {
   "cell_type": "markdown",
   "metadata": {},
   "source": [
    "## Задание 4"
   ]
  },
  {
   "cell_type": "markdown",
   "metadata": {},
   "source": [
    "Вы работаете секретарем и вам постоянно приходят различные документы. Вы должны быть очень внимательны, чтобы не потерять ни один документ. Каталог документов хранится в следующем виде:"
   ]
  },
  {
   "cell_type": "code",
   "execution_count": 2,
   "metadata": {},
   "outputs": [],
   "source": [
    "documents = [\n",
    "    {'type': 'passport', 'number': '2207 876234', 'name': 'Василий Гупкин'},\n",
    "    {'type': 'invoice', 'number': '11-2', 'name': 'Геннадий Покемонов'},\n",
    "    {'type': 'insurance', 'number': '10006', 'name': 'Аристарх Павлов'}\n",
    "]"
   ]
  },
  {
   "cell_type": "markdown",
   "metadata": {},
   "source": [
    "Перечень полок, на которых находятся документы хранится в следующем виде:"
   ]
  },
  {
   "cell_type": "code",
   "execution_count": 3,
   "metadata": {},
   "outputs": [],
   "source": [
    " directories= {\n",
    "    '1': ['2207 876234', '11-2', '5455 028765'],\n",
    "    '2': ['10006', '5400 028765', '5455 002299'],\n",
    "    '3': []\n",
    "}"
   ]
  },
  {
   "cell_type": "code",
   "execution_count": 225,
   "metadata": {},
   "outputs": [
    {
     "name": "stdout",
     "output_type": "stream",
     "text": [
      "Введите командуp\n",
      "Введите номер документа: 11-2\n",
      "Геннадий Покемонов\n"
     ]
    }
   ],
   "source": [
    "def p_people(list):\n",
    "    input_doc = input('Введите номер документа: ')\n",
    "    for element in list:\n",
    "        if element['number'] == input_doc:\n",
    "            return element['name']\n",
    "\n",
    "    for element in list:\n",
    "        if element['number'] != input_doc:\n",
    "            return 'Нет такого документа'\n",
    "        \n",
    "#print (p_people(documents))\n",
    "    \n",
    "def s_shelf(dict):\n",
    "    input_doc = input('Введите номер документа: ')\n",
    "    for element in dict:\n",
    "        if input_doc in dict.get(element):\n",
    "            return element\n",
    "        else:\n",
    "            return 'Такого документа нет'\n",
    "    \n",
    "#print (s_shelf(directories))\n",
    "\n",
    "def l_list(list):\n",
    "    for element in list:\n",
    "        print('passport', element.get('number'), element.get('name'))      \n",
    "    return 'все документы просмотрены'\n",
    "    \n",
    "             \n",
    "#print(l_list(documents))\n",
    "\n",
    "def add_shelf(dict):\n",
    "    input_number = input('Введите номер полки ')\n",
    "    for element in dict:\n",
    "        if input_number in element:\n",
    "            return 'Такая полка существует'\n",
    "        else:\n",
    "            dict.setdefault(input_number, [])\n",
    "            return 'Новая полка добавлена'\n",
    "\n",
    "#print(add_shelf(directories))\n",
    "#print(directories)\n",
    " \n",
    "\n",
    "def d_del(list, dict):\n",
    "    \n",
    "    input_number_doc = input('Введите номер документа ')\n",
    "\n",
    "    t = 0\n",
    "    for element in list:\n",
    "        if input_number_doc == element['number']:\n",
    "            t +=1\n",
    "    n = 0\n",
    "    for element in dict:\n",
    "        if input_number_doc in dict.get(element):\n",
    "            n +=1\n",
    "    \n",
    "    if t == 0 and n == 0:\n",
    "        return 'Такого документа нет'\n",
    "    elif t == 0 and n != 0:\n",
    "        print('Документ есть только в словаре. Запущен процесс удаления документа из словаря.')\n",
    "    elif t != 0 and n == 0:\n",
    "        print('Документ есть только в списке. Запущен процесс удаления документа из списка.')\n",
    "    else:\n",
    "        print('Запущен процесс удаления документа из списка и словаря.')\n",
    "    \n",
    "            \n",
    "    if t != 0:\n",
    "        for element in list:\n",
    "            if input_number_doc == element['number']:\n",
    "                del(element['number'])\n",
    "\n",
    "    if n != 0:\n",
    "        for element in dict:\n",
    "            if input_number_doc in dict.get(element): \n",
    "                dict.get(element).remove(input_number_doc)\n",
    "\n",
    "    return 'Документ удален.'\n",
    "\n",
    "#print(d_del(documents, directories))\n",
    "#print(documents)\n",
    "#print(directories)\n",
    "\n",
    "\n",
    "def m_move(dict):\n",
    "    input_number_doc = input('Введите номер документа ')\n",
    "    input_number_shelf = input('Введите номер полки, куда переместить документ ')\n",
    "    \n",
    "    t = 0\n",
    "    for element in dict:\n",
    "        if input_number_shelf in element:\n",
    "            t +=1\n",
    "    n = 0\n",
    "    for element in dict:\n",
    "        if input_number_doc in dict.get(element):\n",
    "            n +=1\n",
    "\n",
    "    if t == 0 and n == 0:\n",
    "        return 'Такого документа и номера полки нет'\n",
    "    elif t == 0 and n != 0:\n",
    "        return 'Такой полки нет. Введите корректный номер полки'\n",
    "    elif t != 0 and n == 0:\n",
    "        return 'Такого документа нет. Введите корректный номер документа'\n",
    "    else:\n",
    "        print('Запущен процесс перемещения документа.')\n",
    "        \n",
    "    \n",
    "    if n != 0 and t != 0:\n",
    "        for element in dict:\n",
    "            if input_number_doc in dict.get(element): \n",
    "                dict.get(element).remove(input_number_doc)\n",
    "    \n",
    "    if n != 0 and t != 0:\n",
    "        for element in dict:\n",
    "            if input_number_shelf == element:\n",
    "                dict.get(element).append(input_number_doc)\n",
    "   \n",
    "    return 'Документ перемещен'\n",
    "\n",
    "#print(m_move(directories))\n",
    "#print(directories)\n",
    "\n",
    "directories_1 = {\n",
    "    '1': ['2207 876234', '11-2', '5455 028765'],\n",
    "    '2': ['10006', '5400 028765', '5455 002299'],\n",
    "    '3': []\n",
    "}\n",
    "    \n",
    "documents_1 = [\n",
    "    {'type': 'passport', 'number': '2207 876234', 'name': 'Василий Гупкин'},\n",
    "    {'type': 'invoice', 'number': '11-2', 'name': 'Геннадий Покемонов'},\n",
    "    {'type': 'insurance', 'number': '10006', 'name': 'Аристарх Павлов'}\n",
    "]\n",
    "\n",
    "\n",
    "def a_add(list, dict):\n",
    "    input_number_doc = input('Введите номер документа ')\n",
    "    input_number_shelf = input('Введите номер полки, куда переместить документ ')\n",
    "    \n",
    "    t = 0\n",
    "    for element in dict:\n",
    "        if input_number_shelf in element:\n",
    "            t +=1\n",
    "    n = 0\n",
    "    for element in dict:\n",
    "        if input_number_doc in dict.get(element):\n",
    "            n +=1\n",
    "\n",
    "    if n != 0:\n",
    "        return 'Такой документ уже существует в базе. Введите новый документ.'\n",
    "    elif t == 0:\n",
    "        return 'Такой полки нет. Введите корректный номер полки'\n",
    "    else:\n",
    "        input_type = input('Введите тип документа ')\n",
    "        input_name = input('Введите имя владельца данных в формате: \"Имя Фамилия\" ')\n",
    "        dict.get(input_number_shelf).append(input_number_doc)\n",
    "        list.append({'type':input_type, 'number':input_number_doc, 'name':input_name})\n",
    "        \n",
    "    return 'Данные добавлены'\n",
    "\n",
    "    \n",
    "#print(a_add(documents, directories))\n",
    "#print(documents)\n",
    "#print(directories)  \n",
    "    \n",
    "input_command = input('Введите команду')\n",
    "\n",
    "if input_command == 'p':\n",
    "    print (p_people(documents))\n",
    "elif input_command == 's':\n",
    "    print (s_shelf(directories))\n",
    "elif input_command == 'l':\n",
    "    print(l_list(documents))\n",
    "elif input_command == 'as':\n",
    "    print(add_shelf(directories))\n",
    "elif input_command == 'd':\n",
    "    print(d_del(documents, directories))\n",
    "elif input_command == 'm':\n",
    "    print(m_move(directories))\n",
    "elif input_command == 'a':\n",
    "    print(a_add(documents, directories))\n",
    "else:\n",
    "    print('Такой команды не существует. Введите корректную.')"
   ]
  },
  {
   "cell_type": "markdown",
   "metadata": {},
   "source": [
    "Необходимо реализовать пользовательские команды (внимание! это не название функций, которые должны быть выразительными, а команды, которые вводит пользователь, чтобы получить необходимый результат):\n",
    "  \n",
    "- p – people – команда, которая спросит номер документа и выведет имя человека, которому он принадлежит;  \n",
    "- s – shelf – команда, которая спросит номер документа и выведет номер полки, на которой он находится  \n",
    "Правильно обработайте ситуацию, когда пользователь будет вводить несуществующий документ.\n",
    "- l – list – команда, которая выведет список всех документов в формате   \n",
    "**passport \"2207 876234\" \"Василий Гупкин\"**  \n",
    "- as – add shelf – команда, которая спросит номер новой полки и добавит ее в перечень\n",
    "- d – delete – команда, которая спросит номер документа и удалит его из каталога и из перечня полок. Предусмотрите сценарий, когда пользователь вводит несуществующий документ;  \n",
    "- m – move – команда, которая спросит номер документа и целевую полку и переместит его с текущей полки на целевую. Корректно обработайте кейсы, когда пользователь пытается переместить несуществующий документ или переместить документ на несуществующую полку;  \n",
    "- a – add – команда, которая добавит новый документ в каталог и в перечень полок, спросив его номер, тип, имя владельца и номер полки, на котором он будет храниться."
   ]
  }
 ],
 "metadata": {
  "kernelspec": {
   "display_name": "Python 3",
   "language": "python",
   "name": "python3"
  },
  "language_info": {
   "codemirror_mode": {
    "name": "ipython",
    "version": 3
   },
   "file_extension": ".py",
   "mimetype": "text/x-python",
   "name": "python",
   "nbconvert_exporter": "python",
   "pygments_lexer": "ipython3",
   "version": "3.7.4"
  }
 },
 "nbformat": 4,
 "nbformat_minor": 2
}
