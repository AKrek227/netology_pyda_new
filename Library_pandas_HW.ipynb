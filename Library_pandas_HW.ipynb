{
 "cells": [
  {
   "cell_type": "markdown",
   "metadata": {},
   "source": [
    "# Домашнее задание к лекции \"Библиотека Pandas\""
   ]
  },
  {
   "cell_type": "markdown",
   "metadata": {},
   "source": [
    "# Задание 1"
   ]
  },
  {
   "cell_type": "markdown",
   "metadata": {},
   "source": [
    "Скачайте с сайта https://grouplens.org/datasets/movielens/ датасет любого размера. Определите какому фильму было выставлено больше всего оценок 5.0."
   ]
  },
  {
   "cell_type": "code",
   "execution_count": 1,
   "metadata": {},
   "outputs": [],
   "source": [
    "import pandas as pd"
   ]
  },
  {
   "cell_type": "code",
   "execution_count": 2,
   "metadata": {},
   "outputs": [
    {
     "data": {
      "text/html": [
       "<div>\n",
       "<style scoped>\n",
       "    .dataframe tbody tr th:only-of-type {\n",
       "        vertical-align: middle;\n",
       "    }\n",
       "\n",
       "    .dataframe tbody tr th {\n",
       "        vertical-align: top;\n",
       "    }\n",
       "\n",
       "    .dataframe thead th {\n",
       "        text-align: right;\n",
       "    }\n",
       "</style>\n",
       "<table border=\"1\" class=\"dataframe\">\n",
       "  <thead>\n",
       "    <tr style=\"text-align: right;\">\n",
       "      <th></th>\n",
       "      <th>userId</th>\n",
       "      <th>movieId</th>\n",
       "      <th>rating</th>\n",
       "      <th>timestamp</th>\n",
       "    </tr>\n",
       "  </thead>\n",
       "  <tbody>\n",
       "    <tr>\n",
       "      <td>0</td>\n",
       "      <td>1</td>\n",
       "      <td>1</td>\n",
       "      <td>4.0</td>\n",
       "      <td>964982703</td>\n",
       "    </tr>\n",
       "    <tr>\n",
       "      <td>1</td>\n",
       "      <td>1</td>\n",
       "      <td>3</td>\n",
       "      <td>4.0</td>\n",
       "      <td>964981247</td>\n",
       "    </tr>\n",
       "    <tr>\n",
       "      <td>2</td>\n",
       "      <td>1</td>\n",
       "      <td>6</td>\n",
       "      <td>4.0</td>\n",
       "      <td>964982224</td>\n",
       "    </tr>\n",
       "    <tr>\n",
       "      <td>3</td>\n",
       "      <td>1</td>\n",
       "      <td>47</td>\n",
       "      <td>5.0</td>\n",
       "      <td>964983815</td>\n",
       "    </tr>\n",
       "    <tr>\n",
       "      <td>4</td>\n",
       "      <td>1</td>\n",
       "      <td>50</td>\n",
       "      <td>5.0</td>\n",
       "      <td>964982931</td>\n",
       "    </tr>\n",
       "  </tbody>\n",
       "</table>\n",
       "</div>"
      ],
      "text/plain": [
       "   userId  movieId  rating  timestamp\n",
       "0       1        1     4.0  964982703\n",
       "1       1        3     4.0  964981247\n",
       "2       1        6     4.0  964982224\n",
       "3       1       47     5.0  964983815\n",
       "4       1       50     5.0  964982931"
      ]
     },
     "execution_count": 2,
     "metadata": {},
     "output_type": "execute_result"
    }
   ],
   "source": [
    "data1 = pd.read_csv('ratings.csv')\n",
    "data1.head()"
   ]
  },
  {
   "cell_type": "code",
   "execution_count": 3,
   "metadata": {},
   "outputs": [
    {
     "data": {
      "text/plain": [
       "318    153\n",
       "Name: movieId, dtype: int64"
      ]
     },
     "execution_count": 3,
     "metadata": {},
     "output_type": "execute_result"
    }
   ],
   "source": [
    "data2 = data1[data1['rating'] == 5.0]\n",
    "data2['movieId'].value_counts().head(1)"
   ]
  },
  {
   "cell_type": "code",
   "execution_count": 4,
   "metadata": {},
   "outputs": [
    {
     "data": {
      "text/html": [
       "<div>\n",
       "<style scoped>\n",
       "    .dataframe tbody tr th:only-of-type {\n",
       "        vertical-align: middle;\n",
       "    }\n",
       "\n",
       "    .dataframe tbody tr th {\n",
       "        vertical-align: top;\n",
       "    }\n",
       "\n",
       "    .dataframe thead th {\n",
       "        text-align: right;\n",
       "    }\n",
       "</style>\n",
       "<table border=\"1\" class=\"dataframe\">\n",
       "  <thead>\n",
       "    <tr style=\"text-align: right;\">\n",
       "      <th></th>\n",
       "      <th>title</th>\n",
       "    </tr>\n",
       "  </thead>\n",
       "  <tbody>\n",
       "    <tr>\n",
       "      <td>277</td>\n",
       "      <td>Shawshank Redemption, The (1994)</td>\n",
       "    </tr>\n",
       "  </tbody>\n",
       "</table>\n",
       "</div>"
      ],
      "text/plain": [
       "                                title\n",
       "277  Shawshank Redemption, The (1994)"
      ]
     },
     "execution_count": 4,
     "metadata": {},
     "output_type": "execute_result"
    }
   ],
   "source": [
    "data4 = pd.read_csv('movies.csv')\n",
    "\n",
    "data5 = data4[data4.movieId == 318]\n",
    "data5\n",
    "data5.filter(items = ['title'])\n"
   ]
  },
  {
   "cell_type": "markdown",
   "metadata": {},
   "source": [
    "# Задание 2"
   ]
  },
  {
   "cell_type": "markdown",
   "metadata": {},
   "source": [
    "По данным файла power.csv посчитайте суммарное потребление стран Прибалтики (Латвия, Литва и Эстония) категорий 4, 12 и 21 за период с 2005 по 2010 года. Не учитывайте в расчетах отрицательные значения quantity."
   ]
  },
  {
   "cell_type": "code",
   "execution_count": 5,
   "metadata": {},
   "outputs": [
    {
     "data": {
      "text/html": [
       "<div>\n",
       "<style scoped>\n",
       "    .dataframe tbody tr th:only-of-type {\n",
       "        vertical-align: middle;\n",
       "    }\n",
       "\n",
       "    .dataframe tbody tr th {\n",
       "        vertical-align: top;\n",
       "    }\n",
       "\n",
       "    .dataframe thead th {\n",
       "        text-align: right;\n",
       "    }\n",
       "</style>\n",
       "<table border=\"1\" class=\"dataframe\">\n",
       "  <thead>\n",
       "    <tr style=\"text-align: right;\">\n",
       "      <th></th>\n",
       "      <th>country</th>\n",
       "      <th>year</th>\n",
       "      <th>quantity</th>\n",
       "      <th>category</th>\n",
       "    </tr>\n",
       "  </thead>\n",
       "  <tbody>\n",
       "    <tr>\n",
       "      <td>0</td>\n",
       "      <td>Austria</td>\n",
       "      <td>1996</td>\n",
       "      <td>5.0</td>\n",
       "      <td>1</td>\n",
       "    </tr>\n",
       "    <tr>\n",
       "      <td>1</td>\n",
       "      <td>Austria</td>\n",
       "      <td>1995</td>\n",
       "      <td>17.0</td>\n",
       "      <td>1</td>\n",
       "    </tr>\n",
       "    <tr>\n",
       "      <td>2</td>\n",
       "      <td>Belgium</td>\n",
       "      <td>2014</td>\n",
       "      <td>0.0</td>\n",
       "      <td>1</td>\n",
       "    </tr>\n",
       "    <tr>\n",
       "      <td>3</td>\n",
       "      <td>Belgium</td>\n",
       "      <td>2013</td>\n",
       "      <td>0.0</td>\n",
       "      <td>1</td>\n",
       "    </tr>\n",
       "    <tr>\n",
       "      <td>4</td>\n",
       "      <td>Belgium</td>\n",
       "      <td>2012</td>\n",
       "      <td>35.0</td>\n",
       "      <td>1</td>\n",
       "    </tr>\n",
       "  </tbody>\n",
       "</table>\n",
       "</div>"
      ],
      "text/plain": [
       "   country  year  quantity  category\n",
       "0  Austria  1996       5.0         1\n",
       "1  Austria  1995      17.0         1\n",
       "2  Belgium  2014       0.0         1\n",
       "3  Belgium  2013       0.0         1\n",
       "4  Belgium  2012      35.0         1"
      ]
     },
     "execution_count": 5,
     "metadata": {},
     "output_type": "execute_result"
    }
   ],
   "source": [
    "data = pd.read_csv('power.csv')\n",
    "data.head()"
   ]
  },
  {
   "cell_type": "code",
   "execution_count": 6,
   "metadata": {},
   "outputs": [
    {
     "data": {
      "text/plain": [
       "25.0"
      ]
     },
     "execution_count": 6,
     "metadata": {},
     "output_type": "execute_result"
    }
   ],
   "source": [
    "#data['country'].unique()\n",
    "\n",
    "baltic = data[(data['country'] == 'Latvia') | (data['country'] == 'Lithuania') | (data['country'] == 'Estonia')]\n",
    "\n",
    "baltic_category = baltic[(baltic['category'] == 4) | (baltic['category'] == 12) | (baltic['category'] == 21)]\n",
    "\n",
    "baltic_quantity = baltic_category[(baltic_category['quantity'] == 4) | (baltic_category['quantity'] == 12) | (baltic_category['quantity'] == 21) & (baltic_category['quantity'] > 0)]\n",
    "\n",
    "baltic_year = baltic_quantity[(baltic_quantity['year'] >= 2005) & (baltic_quantity['year'] <= 2010)]\n",
    "\n",
    "baltic_year['quantity'].sum()"
   ]
  },
  {
   "cell_type": "markdown",
   "metadata": {},
   "source": [
    "# Задание 3"
   ]
  },
  {
   "cell_type": "markdown",
   "metadata": {},
   "source": [
    "Выберите страницу любого сайта с табличными данными. Импортируйте таблицы в pandas dataframe.\n",
    "Примеры страниц (необязательно брать именно эти):\n",
    "https://fortrader.org/quotes\n",
    "https://www.finanz.ru/valyuty/v-realnom-vremeni"
   ]
  },
  {
   "cell_type": "code",
   "execution_count": 7,
   "metadata": {},
   "outputs": [
    {
     "data": {
      "text/plain": [
       "[    Unnamed: 0              Рубль  Предложение  Спрос  Предыдущее закрытие  \\\n",
       " 0          NaN            GBP/RUB       929407      -               922986   \n",
       " 1          NaN            EUR/RUB       855178      -               846285   \n",
       " 2          NaN            USD/RUB       788925      -               782900   \n",
       " 3          NaN            JPY/RUB        07077      -                07047   \n",
       " 4          NaN            CNY/RUB       110948      -               110847   \n",
       " 5          NaN            CHF/RUB       804986      -               798085   \n",
       " 6          NaN               Евро  Предложение  Спрос  Предыдущее закрытие   \n",
       " 7          NaN            EUR/USD        10832      -                10810   \n",
       " 8          NaN            EUR/GBP        09198      -                09170   \n",
       " 9          NaN            EUR/JPY      1208280      -              1201200   \n",
       " 10         NaN            EUR/CHF        10606      -                10603   \n",
       " 11         NaN         Доллар США  Предложение  Спрос  Предыдущее закрытие   \n",
       " 12         NaN            USD/EUR        09232      -                09250   \n",
       " 13         NaN            USD/GBP        08492      -                08483   \n",
       " 14         NaN            USD/JPY      1115440      -              1111200   \n",
       " 15         NaN            USD/CHF        09789      -                09809   \n",
       " 16         NaN      Японская иена  Предложение  Спрос  Предыдущее закрытие   \n",
       " 17         NaN    JPY/EUR (100:1)        08300      -                08300   \n",
       " 18         NaN            JPY/GBP        00076      -                00076   \n",
       " 19         NaN            JPY/USD        00090      -                00090   \n",
       " 20         NaN    JPY/CHF (100:1)        08800      -                08800   \n",
       " 21         NaN    Фунт стерлингов  Предложение  Спрос  Предыдущее закрытие   \n",
       " 22         NaN            GBP/USD        11777      -                11788   \n",
       " 23         NaN            GBP/JPY      1313342      -              1309840   \n",
       " 24         NaN            GBP/EUR        10872      -                10906   \n",
       " 25         NaN            GBP/CHF        11531      -                11560   \n",
       " 26         NaN  Швейцарский франк  Предложение  Спрос  Предыдущее закрытие   \n",
       " 27         NaN            GBP/CHF        11531      -                11560   \n",
       " 28         NaN            EUR/CHF        10606      -                10603   \n",
       " 29         NaN    JPY/CHF (100:1)        08800      -                08800   \n",
       " 30         NaN            USD/CHF        09789      -                09809   \n",
       " 31         NaN  Украинская гривна  Предложение  Спрос  Предыдущее закрытие   \n",
       " 32         NaN            EUR/UAH       302798      -               300866   \n",
       " 33         NaN            USD/UAH       279553      -               278309   \n",
       " 34         NaN            CHF/UAH       285550      -               283700   \n",
       " 35         NaN            GBP/UAH       329202      -               328099   \n",
       " \n",
       "           %  Абсолютное значение     Время  \n",
       " 0    0,70 %                06421  19:14:00  \n",
       " 1    1,05 %                08893  19:20:00  \n",
       " 2    0,77 %                06025  19:20:00  \n",
       " 3    0,43 %                00030  19:13:00  \n",
       " 4    0,09 %                00101  19:20:00  \n",
       " 5    0,86 %                06901  19:13:00  \n",
       " 6         %  Абсолютное значение     Время  \n",
       " 7    0,20 %                00022  19:20:00  \n",
       " 8    0,30 %                00027  19:20:00  \n",
       " 9    0,59 %                07080  19:20:00  \n",
       " 10   0,03 %                00003  19:20:00  \n",
       " 11        %  Абсолютное значение     Время  \n",
       " 12  -0,19 %               -00018  19:20:00  \n",
       " 13   0,11 %                00009  19:13:00  \n",
       " 14   0,38 %                04240  19:20:00  \n",
       " 15  -0,20 %               -00020  19:20:00  \n",
       " 16        %  Абсолютное значение     Время  \n",
       " 17  -0,58 %                00000  19:13:00  \n",
       " 18  -0,25 %                00000  19:13:00  \n",
       " 19  -0,37 %                00000  19:13:00  \n",
       " 20  -0,53 %                00000  19:20:00  \n",
       " 21        %  Абсолютное значение     Время  \n",
       " 22  -0,09 %               -00011  19:20:00  \n",
       " 23   0,27 %                03502  19:14:00  \n",
       " 24  -0,31 %               -00034  19:20:00  \n",
       " 25  -0,25 %               -00029  19:20:00  \n",
       " 26        %  Абсолютное значение     Время  \n",
       " 27  -0,25 %               -00029  19:20:00  \n",
       " 28   0,03 %                00003  19:20:00  \n",
       " 29  -0,53 %                00000  19:20:00  \n",
       " 30  -0,20 %               -00020  19:20:00  \n",
       " 31        %  Абсолютное значение     Время  \n",
       " 32   0,64 %                01932  19:13:00  \n",
       " 33   0,45 %                01244  19:13:00  \n",
       " 34   0,65 %                01850  19:20:00  \n",
       " 35   0,34 %                01103  19:13:00  ]"
      ]
     },
     "execution_count": 7,
     "metadata": {},
     "output_type": "execute_result"
    }
   ],
   "source": [
    "page_url = 'https://www.finanz.ru/valyuty/v-realnom-vremeni'\n",
    "data3 = pd.read_html(page_url, attrs = {'class':'quote_list'}, encoding = 'utf-8')\n",
    "data3[:5]"
   ]
  },
  {
   "cell_type": "code",
   "execution_count": null,
   "metadata": {},
   "outputs": [],
   "source": [
    "page_url_1 = 'https://fortrader.org/quotes'\n",
    "df_1 = pd.read_html(page_url_1, attrs = {'class':'t'}, encoding = 'utf-8')\n",
    "dF_1[:5]"
   ]
  }
 ],
 "metadata": {
  "kernelspec": {
   "display_name": "Python 3",
   "language": "python",
   "name": "python3"
  },
  "language_info": {
   "codemirror_mode": {
    "name": "ipython",
    "version": 3
   },
   "file_extension": ".py",
   "mimetype": "text/x-python",
   "name": "python",
   "nbconvert_exporter": "python",
   "pygments_lexer": "ipython3",
   "version": "3.7.4"
  }
 },
 "nbformat": 4,
 "nbformat_minor": 2
}
