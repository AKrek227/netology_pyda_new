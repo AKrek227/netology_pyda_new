{
 "cells": [
  {
   "cell_type": "markdown",
   "metadata": {},
   "source": [
    "**Задание 1**. Даны 2 строки: *long_phrase* и *short_phrase*. \n",
    "Напишите код, который проверяет действительно ли длинная фраза *long_phrase* длиннее короткой *short_phrase*. И выводит *True* или *False* в зависимости от результата сравнения."
   ]
  },
  {
   "cell_type": "code",
   "execution_count": 3,
   "metadata": {},
   "outputs": [],
   "source": [
    "long_phrase = 'Насколько проще было бы писать программы, если бы не заказчики'\n",
    "short_phrase = '640Кб должно хватить для любых задач. Билл Гейтс (по легенде)'"
   ]
  },
  {
   "cell_type": "code",
   "execution_count": 4,
   "metadata": {},
   "outputs": [
    {
     "data": {
      "text/plain": [
       "True"
      ]
     },
     "execution_count": 4,
     "metadata": {},
     "output_type": "execute_result"
    }
   ],
   "source": [
    "len(long_phrase)>len(short_phrase)"
   ]
  },
  {
   "cell_type": "markdown",
   "metadata": {},
   "source": [
    "**Задание 2**. Дано значение объема файла в байтах. Напишите перевод этого значения в мегабайты в формате: \"*Объем файла равен 213.68Mb*\""
   ]
  },
  {
   "cell_type": "code",
   "execution_count": 5,
   "metadata": {},
   "outputs": [
    {
     "name": "stdout",
     "output_type": "stream",
     "text": [
      "Объем файла равен 213.68 Mb\n"
     ]
    }
   ],
   "source": [
    "mb=2**20\n",
    "file_size_b=213.68*mb\n",
    "file_size_mb=file_size_b/mb\n",
    "print('Объем файла равен', file_size_mb, 'Mb')"
   ]
  },
  {
   "cell_type": "markdown",
   "metadata": {},
   "source": [
    "**Задание 3**. Разработать приложение для определения знака зодиака по дате рождения. Пример:\n",
    "\n",
    "Введите месяц: март\n",
    "\n",
    "Введите число: 6\n",
    "\n",
    "Вывод:\n",
    "Рыбы"
   ]
  },
  {
   "cell_type": "code",
   "execution_count": 7,
   "metadata": {},
   "outputs": [
    {
     "name": "stdout",
     "output_type": "stream",
     "text": [
      "Введите месяц: февраль\n",
      "Введите число: 5\n",
      "водолей\n"
     ]
    }
   ],
   "source": [
    "user_input_month=input('Введите месяц: ')\n",
    "user_input_day=int(input('Введите число: '))\n",
    "if user_input_month == 'март' and 21 <= user_input_day <= 31 or user_input_month == 'апрель' and 1 <= user_input_day <= 20:\n",
    "    print('овен')\n",
    "elif user_input_month == 'апрель' and 21 <= user_input_day <= 30 or user_input_month == 'май' and 1 <= user_input_day <= 20:\n",
    "    print('телец')\n",
    "elif user_input_month == 'май' and 21 <= user_input_day <= 31 or user_input_month == 'июнь' and 1 <= user_input_day <= 20:\n",
    "    print('близнецы')\n",
    "elif user_input_month == 'июнь' and 21 <= user_input_day <= 30 or user_input_month == 'июль' and 1 <= user_input_day <= 22:\n",
    "    print('рак')\n",
    "elif user_input_month == 'июль' and 23 <= user_input_day <= 31 or user_input_month == 'август' and 1 <= user_input_day <= 22:\n",
    "    print('лев')\n",
    "elif user_input_month == 'август' and 23 <= user_input_day <= 31 or user_input_month == 'сентябрь' and 1 <= user_input_day <= 22:\n",
    "    print('дева')\n",
    "elif user_input_month == 'сентябрь' and 23 <= user_input_day <= 30 or user_input_month == 'октябрь' and 1 <= user_input_day <= 22:\n",
    "    print('весы')\n",
    "elif user_input_month == 'октябрь' and 23 <= user_input_day <= 31 or user_input_month == 'ноябрь' and 1 <= user_input_day <= 22:\n",
    "    print('скорпион')\n",
    "elif user_input_month == 'ноябрь' and 23 <= user_input_day <= 30 or user_input_month == 'декабрь' and 1 <= user_input_day <= 21:\n",
    "    print('стрелец')\n",
    "elif user_input_month == 'декабрь' and 22 <= user_input_day <= 31 or user_input_month == 'январь' and 1 <= user_input_day <= 19:\n",
    "    print('козерог')\n",
    "elif user_input_month == 'январь' and 20 <= user_input_day <= 31 or user_input_month == 'февраль' and 1 <= user_input_day <= 19:\n",
    "    print('водолей')\n",
    "elif user_input_month == 'февраль' and 20 <= user_input_day <= 29 or user_input_month == 'март' and 1 <= user_input_day <= 20:\n",
    "    print('рыбы')\n",
    "else:\n",
    "    print('не верные данные')"
   ]
  },
  {
   "cell_type": "markdown",
   "metadata": {},
   "source": [
    "**Задание 4**. Нужно разработать приложение для финансового планирования.\n",
    "Приложение учитывает сколько уходит на ипотеку, \"на жизнь\" и сколько нужно отложить на пенсию.\n",
    "Пользователь вводит:\n",
    "- заработанную плату в месяц.\n",
    "- сколько процентов от ЗП уходит на ипотеку.\n",
    "- сколько процентов от ЗП уходит \"на жизнь\".\n",
    "- сколько раз приходит премия в год.\n",
    "\n",
    "Остальная часть заработанной платы откладывается на пенсию.\n",
    "\n",
    "Также пользователю приходит премия в размере зарплаты, от которой половина уходит на отпуск, а вторая половина откладывается.\n",
    "\n",
    "Программа должна учитывать сколько премий было в год.\n",
    "\n",
    "Нужно вывести сколько денег тратит пользователь на ипотеку и сколько он накопит за год.\n",
    "\n",
    "Пример:\n",
    "\n",
    "Введите заработанную плату в месяц: 100000\n",
    "\n",
    "Введите сколько процентов уходит на ипотеку: 30\n",
    "\n",
    "Введите сколько процентов уходит на жизнь: 50\n",
    "\n",
    "Введите количество премий за год: 2\n",
    "\n",
    "Вывод:\n",
    "На ипотеку было потрачено: 360000 рублей\n",
    "Было накоплено: 340000 рублей"
   ]
  },
  {
   "cell_type": "code",
   "execution_count": 9,
   "metadata": {},
   "outputs": [
    {
     "name": "stdout",
     "output_type": "stream",
     "text": [
      "Введите зарплату в месяц: 100000\n",
      "Введите сколько % от з/п уходит на ипотеку в месяц: 30\n",
      "Введите сколько % от з/п уходит на жизнь в месяц: 50\n",
      "Введите сколько раз в год приходит премия: 2\n",
      "На ипотеку было потрачено 360000 рублей\n",
      "Было накоплено:  340000 рублей\n"
     ]
    }
   ],
   "source": [
    "user_input_salary = int(input('Введите зарплату в месяц: '))\n",
    "user_input_mortgage = int(input('Введите сколько % от з/п уходит на ипотеку в месяц: '))\n",
    "user_input_life = int(input('Введите сколько % от з/п уходит на жизнь в месяц: '))\n",
    "user_input_bonus = int(input('Введите сколько раз в год приходит премия: '))\n",
    "salary_year = user_input_salary * 12\n",
    "mortgage_year = salary_year * (user_input_mortgage / 100)\n",
    "life_year = salary_year * (user_input_life / 100)\n",
    "pension_year = (salary_year - mortgage_year - life_year) + (user_input_salary * user_input_bonus / 2)\n",
    "print('На ипотеку было потрачено',int(mortgage_year), 'рублей')\n",
    "print('Было накоплено: ', int(pension_year), 'рублей')"
   ]
  }
 ],
 "metadata": {
  "kernelspec": {
   "display_name": "Python 3",
   "language": "python",
   "name": "python3"
  },
  "language_info": {
   "codemirror_mode": {
    "name": "ipython",
    "version": 3
   },
   "file_extension": ".py",
   "mimetype": "text/x-python",
   "name": "python",
   "nbconvert_exporter": "python",
   "pygments_lexer": "ipython3",
   "version": "3.7.4"
  }
 },
 "nbformat": 4,
 "nbformat_minor": 2
}
