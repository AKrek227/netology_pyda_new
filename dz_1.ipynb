{
 "cells": [
  {
   "cell_type": "markdown",
   "metadata": {
    "colab_type": "text",
    "id": "view-in-github"
   },
   "source": [
    "<a href=\"https://colab.research.google.com/github/yustinaivanova/netology_statistics/blob/master/dz_1.ipynb\" target=\"_parent\"><img src=\"https://colab.research.google.com/assets/colab-badge.svg\" alt=\"Open In Colab\"/></a>"
   ]
  },
  {
   "cell_type": "markdown",
   "metadata": {
    "colab_type": "text",
    "id": "QVI-7gzMl70f"
   },
   "source": [
    "# Домашнее задание по статистическому анализу на python"
   ]
  },
  {
   "cell_type": "code",
   "execution_count": 117,
   "metadata": {
    "colab": {},
    "colab_type": "code",
    "id": "4IGVqb7KvSxe"
   },
   "outputs": [],
   "source": [
    "import pandas as pd\n",
    "import numpy as np\n",
    "import matplotlib.pyplot as plt\n",
    "import scipy.stats as sts\n",
    "%matplotlib inline\n",
    "import statistics\n",
    "import ssl"
   ]
  },
  {
   "cell_type": "markdown",
   "metadata": {
    "colab_type": "text",
    "id": "cCvZIO1Kh7vZ"
   },
   "source": [
    "Загрузить датасет по url:\n"
   ]
  },
  {
   "cell_type": "code",
   "execution_count": 118,
   "metadata": {
    "colab": {},
    "colab_type": "code",
    "id": "csAWXiRvh_YM"
   },
   "outputs": [],
   "source": [
    "# следующая строчка подключает сертификат для защищенного соединения\n",
    "ssl._create_default_https_context = ssl._create_unverified_context\n",
    "# все данные загружаются с сервера\n",
    "url=\"http://yustiks.ru/dataset/world-happiness-report-2019.csv\"\n",
    "df=pd.read_csv(url)"
   ]
  },
  {
   "cell_type": "markdown",
   "metadata": {
    "colab_type": "text",
    "id": "HtcpKepV8XDi"
   },
   "source": [
    "Более подробно о датасете можно прочитать по [данной ссылке](https://data.world/promptcloud/world-happiness-report-2019) или по [ссылке в kaggle](https://www.kaggle.com/PromptCloudHQ/world-happiness-report-2019)"
   ]
  },
  {
   "cell_type": "markdown",
   "metadata": {
    "colab_type": "text",
    "id": "UN13GCGcijj_"
   },
   "source": [
    "Context\n",
    "\n",
    "The World Happiness Report is a landmark survey of the state of global happiness that ranks 156 countries by how happy their citizens perceive themselves to be. This year’s World Happiness Report focuses on happiness and the community: how happiness has evolved over the past dozen years, with a focus on the technologies, social norms, conflicts and government policies that have driven those changes.\n"
   ]
  },
  {
   "cell_type": "markdown",
   "metadata": {
    "colab_type": "text",
    "id": "2NSXs9iSi0dU"
   },
   "source": [
    "\n",
    "*  **Country (region)** Name of the country.\n",
    "*  **Ladder** Cantril Ladder is a measure of life satisfaction.\n",
    "*  **SD of Ladder** Standard deviation of the ladder.\n",
    "*  **Positive affect** Measure of positive emotion.\n",
    "*  **Negative affect** Measure of negative emotion.\n",
    "*  **Social support** The extent to which Social support contributed to the calculation of the Happiness Score.\n",
    "*  **Freedom** The extent to which Freedom contributed to the calculation of the Happiness Score.\n",
    "*  **Corruption** The extent to which Perception of Corruption contributes to Happiness Score.\n",
    "*  **Generosity** The extent to which Generosity contributed to the calculation of the Happiness Score.\n",
    "*  **Log of GDP per capita** The extent to which GDP contributes to the calculation of the Happiness Score.\n",
    "*  **Healthy life expectancy** The extent to which Life expectancy contributed to the calculation of the Happiness Score."
   ]
  },
  {
   "cell_type": "markdown",
   "metadata": {
    "colab_type": "text",
    "id": "23plwhw1j0ba"
   },
   "source": [
    "Посмотреть первые несколько рядов таблицы"
   ]
  },
  {
   "cell_type": "code",
   "execution_count": 119,
   "metadata": {
    "colab": {},
    "colab_type": "code",
    "id": "QCIq_bWfj7IG"
   },
   "outputs": [
    {
     "data": {
      "text/html": [
       "<div>\n",
       "<style scoped>\n",
       "    .dataframe tbody tr th:only-of-type {\n",
       "        vertical-align: middle;\n",
       "    }\n",
       "\n",
       "    .dataframe tbody tr th {\n",
       "        vertical-align: top;\n",
       "    }\n",
       "\n",
       "    .dataframe thead th {\n",
       "        text-align: right;\n",
       "    }\n",
       "</style>\n",
       "<table border=\"1\" class=\"dataframe\">\n",
       "  <thead>\n",
       "    <tr style=\"text-align: right;\">\n",
       "      <th></th>\n",
       "      <th>Country (region)</th>\n",
       "      <th>Ladder</th>\n",
       "      <th>SD of Ladder</th>\n",
       "      <th>Positive affect</th>\n",
       "      <th>Negative affect</th>\n",
       "      <th>Social support</th>\n",
       "      <th>Freedom</th>\n",
       "      <th>Corruption</th>\n",
       "      <th>Generosity</th>\n",
       "      <th>Log of GDP\\nper capita</th>\n",
       "      <th>Healthy life\\nexpectancy</th>\n",
       "    </tr>\n",
       "  </thead>\n",
       "  <tbody>\n",
       "    <tr>\n",
       "      <td>0</td>\n",
       "      <td>Finland</td>\n",
       "      <td>1</td>\n",
       "      <td>4</td>\n",
       "      <td>41.0</td>\n",
       "      <td>10.0</td>\n",
       "      <td>2.0</td>\n",
       "      <td>5.0</td>\n",
       "      <td>4.0</td>\n",
       "      <td>47.0</td>\n",
       "      <td>22.0</td>\n",
       "      <td>27.0</td>\n",
       "    </tr>\n",
       "    <tr>\n",
       "      <td>1</td>\n",
       "      <td>Denmark</td>\n",
       "      <td>2</td>\n",
       "      <td>13</td>\n",
       "      <td>24.0</td>\n",
       "      <td>26.0</td>\n",
       "      <td>4.0</td>\n",
       "      <td>6.0</td>\n",
       "      <td>3.0</td>\n",
       "      <td>22.0</td>\n",
       "      <td>14.0</td>\n",
       "      <td>23.0</td>\n",
       "    </tr>\n",
       "    <tr>\n",
       "      <td>2</td>\n",
       "      <td>Norway</td>\n",
       "      <td>3</td>\n",
       "      <td>8</td>\n",
       "      <td>16.0</td>\n",
       "      <td>29.0</td>\n",
       "      <td>3.0</td>\n",
       "      <td>3.0</td>\n",
       "      <td>8.0</td>\n",
       "      <td>11.0</td>\n",
       "      <td>7.0</td>\n",
       "      <td>12.0</td>\n",
       "    </tr>\n",
       "    <tr>\n",
       "      <td>3</td>\n",
       "      <td>Iceland</td>\n",
       "      <td>4</td>\n",
       "      <td>9</td>\n",
       "      <td>3.0</td>\n",
       "      <td>3.0</td>\n",
       "      <td>1.0</td>\n",
       "      <td>7.0</td>\n",
       "      <td>45.0</td>\n",
       "      <td>3.0</td>\n",
       "      <td>15.0</td>\n",
       "      <td>13.0</td>\n",
       "    </tr>\n",
       "    <tr>\n",
       "      <td>4</td>\n",
       "      <td>Netherlands</td>\n",
       "      <td>5</td>\n",
       "      <td>1</td>\n",
       "      <td>12.0</td>\n",
       "      <td>25.0</td>\n",
       "      <td>15.0</td>\n",
       "      <td>19.0</td>\n",
       "      <td>12.0</td>\n",
       "      <td>7.0</td>\n",
       "      <td>12.0</td>\n",
       "      <td>18.0</td>\n",
       "    </tr>\n",
       "    <tr>\n",
       "      <td>5</td>\n",
       "      <td>Switzerland</td>\n",
       "      <td>6</td>\n",
       "      <td>11</td>\n",
       "      <td>44.0</td>\n",
       "      <td>21.0</td>\n",
       "      <td>13.0</td>\n",
       "      <td>11.0</td>\n",
       "      <td>7.0</td>\n",
       "      <td>16.0</td>\n",
       "      <td>8.0</td>\n",
       "      <td>4.0</td>\n",
       "    </tr>\n",
       "    <tr>\n",
       "      <td>6</td>\n",
       "      <td>Sweden</td>\n",
       "      <td>7</td>\n",
       "      <td>18</td>\n",
       "      <td>34.0</td>\n",
       "      <td>8.0</td>\n",
       "      <td>25.0</td>\n",
       "      <td>10.0</td>\n",
       "      <td>6.0</td>\n",
       "      <td>17.0</td>\n",
       "      <td>13.0</td>\n",
       "      <td>17.0</td>\n",
       "    </tr>\n",
       "    <tr>\n",
       "      <td>7</td>\n",
       "      <td>New Zealand</td>\n",
       "      <td>8</td>\n",
       "      <td>15</td>\n",
       "      <td>22.0</td>\n",
       "      <td>12.0</td>\n",
       "      <td>5.0</td>\n",
       "      <td>8.0</td>\n",
       "      <td>5.0</td>\n",
       "      <td>8.0</td>\n",
       "      <td>26.0</td>\n",
       "      <td>14.0</td>\n",
       "    </tr>\n",
       "    <tr>\n",
       "      <td>8</td>\n",
       "      <td>Canada</td>\n",
       "      <td>9</td>\n",
       "      <td>23</td>\n",
       "      <td>18.0</td>\n",
       "      <td>49.0</td>\n",
       "      <td>20.0</td>\n",
       "      <td>9.0</td>\n",
       "      <td>11.0</td>\n",
       "      <td>14.0</td>\n",
       "      <td>19.0</td>\n",
       "      <td>8.0</td>\n",
       "    </tr>\n",
       "    <tr>\n",
       "      <td>9</td>\n",
       "      <td>Austria</td>\n",
       "      <td>10</td>\n",
       "      <td>10</td>\n",
       "      <td>64.0</td>\n",
       "      <td>24.0</td>\n",
       "      <td>31.0</td>\n",
       "      <td>26.0</td>\n",
       "      <td>19.0</td>\n",
       "      <td>25.0</td>\n",
       "      <td>16.0</td>\n",
       "      <td>15.0</td>\n",
       "    </tr>\n",
       "  </tbody>\n",
       "</table>\n",
       "</div>"
      ],
      "text/plain": [
       "  Country (region)  Ladder  SD of Ladder  Positive affect  Negative affect  \\\n",
       "0          Finland       1             4             41.0             10.0   \n",
       "1          Denmark       2            13             24.0             26.0   \n",
       "2           Norway       3             8             16.0             29.0   \n",
       "3          Iceland       4             9              3.0              3.0   \n",
       "4      Netherlands       5             1             12.0             25.0   \n",
       "5      Switzerland       6            11             44.0             21.0   \n",
       "6           Sweden       7            18             34.0              8.0   \n",
       "7      New Zealand       8            15             22.0             12.0   \n",
       "8           Canada       9            23             18.0             49.0   \n",
       "9          Austria      10            10             64.0             24.0   \n",
       "\n",
       "   Social support  Freedom  Corruption  Generosity  Log of GDP\\nper capita  \\\n",
       "0             2.0      5.0         4.0        47.0                    22.0   \n",
       "1             4.0      6.0         3.0        22.0                    14.0   \n",
       "2             3.0      3.0         8.0        11.0                     7.0   \n",
       "3             1.0      7.0        45.0         3.0                    15.0   \n",
       "4            15.0     19.0        12.0         7.0                    12.0   \n",
       "5            13.0     11.0         7.0        16.0                     8.0   \n",
       "6            25.0     10.0         6.0        17.0                    13.0   \n",
       "7             5.0      8.0         5.0         8.0                    26.0   \n",
       "8            20.0      9.0        11.0        14.0                    19.0   \n",
       "9            31.0     26.0        19.0        25.0                    16.0   \n",
       "\n",
       "   Healthy life\\nexpectancy  \n",
       "0                      27.0  \n",
       "1                      23.0  \n",
       "2                      12.0  \n",
       "3                      13.0  \n",
       "4                      18.0  \n",
       "5                       4.0  \n",
       "6                      17.0  \n",
       "7                      14.0  \n",
       "8                       8.0  \n",
       "9                      15.0  "
      ]
     },
     "execution_count": 119,
     "metadata": {},
     "output_type": "execute_result"
    }
   ],
   "source": [
    "df.head(10)"
   ]
  },
  {
   "cell_type": "code",
   "execution_count": 120,
   "metadata": {},
   "outputs": [
    {
     "data": {
      "text/plain": [
       "156"
      ]
     },
     "execution_count": 120,
     "metadata": {},
     "output_type": "execute_result"
    }
   ],
   "source": [
    "len(df)"
   ]
  },
  {
   "cell_type": "code",
   "execution_count": 122,
   "metadata": {
    "scrolled": false
   },
   "outputs": [
    {
     "data": {
      "text/html": [
       "<div>\n",
       "<style scoped>\n",
       "    .dataframe tbody tr th:only-of-type {\n",
       "        vertical-align: middle;\n",
       "    }\n",
       "\n",
       "    .dataframe tbody tr th {\n",
       "        vertical-align: top;\n",
       "    }\n",
       "\n",
       "    .dataframe thead th {\n",
       "        text-align: right;\n",
       "    }\n",
       "</style>\n",
       "<table border=\"1\" class=\"dataframe\">\n",
       "  <thead>\n",
       "    <tr style=\"text-align: right;\">\n",
       "      <th></th>\n",
       "      <th>Country (region)</th>\n",
       "      <th>Ladder</th>\n",
       "      <th>SD of Ladder</th>\n",
       "      <th>Positive affect</th>\n",
       "      <th>Negative affect</th>\n",
       "      <th>Social support</th>\n",
       "      <th>Freedom</th>\n",
       "      <th>Corruption</th>\n",
       "      <th>Generosity</th>\n",
       "      <th>Log of GDP\\nper capita</th>\n",
       "      <th>Healthy life\\nexpectancy</th>\n",
       "    </tr>\n",
       "  </thead>\n",
       "  <tbody>\n",
       "    <tr>\n",
       "      <td>0</td>\n",
       "      <td>Finland</td>\n",
       "      <td>1</td>\n",
       "      <td>4</td>\n",
       "      <td>41.0</td>\n",
       "      <td>10.0</td>\n",
       "      <td>2.0</td>\n",
       "      <td>5.0</td>\n",
       "      <td>4.0</td>\n",
       "      <td>47.0</td>\n",
       "      <td>22.0</td>\n",
       "      <td>27.0</td>\n",
       "    </tr>\n",
       "    <tr>\n",
       "      <td>1</td>\n",
       "      <td>Denmark</td>\n",
       "      <td>2</td>\n",
       "      <td>13</td>\n",
       "      <td>24.0</td>\n",
       "      <td>26.0</td>\n",
       "      <td>4.0</td>\n",
       "      <td>6.0</td>\n",
       "      <td>3.0</td>\n",
       "      <td>22.0</td>\n",
       "      <td>14.0</td>\n",
       "      <td>23.0</td>\n",
       "    </tr>\n",
       "    <tr>\n",
       "      <td>2</td>\n",
       "      <td>Norway</td>\n",
       "      <td>3</td>\n",
       "      <td>8</td>\n",
       "      <td>16.0</td>\n",
       "      <td>29.0</td>\n",
       "      <td>3.0</td>\n",
       "      <td>3.0</td>\n",
       "      <td>8.0</td>\n",
       "      <td>11.0</td>\n",
       "      <td>7.0</td>\n",
       "      <td>12.0</td>\n",
       "    </tr>\n",
       "    <tr>\n",
       "      <td>3</td>\n",
       "      <td>Iceland</td>\n",
       "      <td>4</td>\n",
       "      <td>9</td>\n",
       "      <td>3.0</td>\n",
       "      <td>3.0</td>\n",
       "      <td>1.0</td>\n",
       "      <td>7.0</td>\n",
       "      <td>45.0</td>\n",
       "      <td>3.0</td>\n",
       "      <td>15.0</td>\n",
       "      <td>13.0</td>\n",
       "    </tr>\n",
       "    <tr>\n",
       "      <td>4</td>\n",
       "      <td>Netherlands</td>\n",
       "      <td>5</td>\n",
       "      <td>1</td>\n",
       "      <td>12.0</td>\n",
       "      <td>25.0</td>\n",
       "      <td>15.0</td>\n",
       "      <td>19.0</td>\n",
       "      <td>12.0</td>\n",
       "      <td>7.0</td>\n",
       "      <td>12.0</td>\n",
       "      <td>18.0</td>\n",
       "    </tr>\n",
       "  </tbody>\n",
       "</table>\n",
       "</div>"
      ],
      "text/plain": [
       "  Country (region)  Ladder  SD of Ladder  Positive affect  Negative affect  \\\n",
       "0          Finland       1             4             41.0             10.0   \n",
       "1          Denmark       2            13             24.0             26.0   \n",
       "2           Norway       3             8             16.0             29.0   \n",
       "3          Iceland       4             9              3.0              3.0   \n",
       "4      Netherlands       5             1             12.0             25.0   \n",
       "\n",
       "   Social support  Freedom  Corruption  Generosity  Log of GDP\\nper capita  \\\n",
       "0             2.0      5.0         4.0        47.0                    22.0   \n",
       "1             4.0      6.0         3.0        22.0                    14.0   \n",
       "2             3.0      3.0         8.0        11.0                     7.0   \n",
       "3             1.0      7.0        45.0         3.0                    15.0   \n",
       "4            15.0     19.0        12.0         7.0                    12.0   \n",
       "\n",
       "   Healthy life\\nexpectancy  \n",
       "0                      27.0  \n",
       "1                      23.0  \n",
       "2                      12.0  \n",
       "3                      13.0  \n",
       "4                      18.0  "
      ]
     },
     "execution_count": 122,
     "metadata": {},
     "output_type": "execute_result"
    }
   ],
   "source": [
    "# уберем строку с пустыми значениями в Freedom и Positive affect\n",
    "\n",
    "a = df[df['Country (region)'] != 'Qatar']\n",
    "a.head()"
   ]
  },
  {
   "cell_type": "markdown",
   "metadata": {
    "colab_type": "text",
    "id": "XCFa8CtdjrqJ"
   },
   "source": [
    "Построить частотный график для двух параметров: Freedom и positive affect. Какое это распределение?"
   ]
  },
  {
   "cell_type": "code",
   "execution_count": null,
   "metadata": {},
   "outputs": [],
   "source": [
    "# Нормального распределения у столбцов нет. Это равномерное распределение."
   ]
  },
  {
   "cell_type": "code",
   "execution_count": 123,
   "metadata": {
    "colab": {},
    "colab_type": "code",
    "id": "Ia4zd3G2kUEI"
   },
   "outputs": [
    {
     "data": {
      "image/png": "[encoded data removed]",
      "text/plain": [
       "<Figure size 432x288 with 1 Axes>"
      ]
     },
     "metadata": {
      "needs_background": "light"
     },
     "output_type": "display_data"
    }
   ],
   "source": [
    "plt.hist(a['Freedom'],5)\n",
    "\n",
    "plt.grid = (True)\n",
    "plt.xlabel('интервалы')\n",
    "plt.ylabel('freedom')\n",
    "plt.title('Частотный график Freedom')\n",
    "plt.show()\n"
   ]
  },
  {
   "cell_type": "code",
   "execution_count": 124,
   "metadata": {},
   "outputs": [
    {
     "data": {
      "image/png": "[encoded data removed]",
      "text/plain": [
       "<Figure size 432x288 with 1 Axes>"
      ]
     },
     "metadata": {
      "needs_background": "light"
     },
     "output_type": "display_data"
    }
   ],
   "source": [
    "plt.hist(a['Positive affect'],5)\n",
    "\n",
    "plt.xlabel('интервалы')\n",
    "plt.ylabel('Positive affect')\n",
    "plt.title('Частотный график Positive affect')\n",
    "plt.grid = (True)\n",
    "plt.show()\n"
   ]
  },
  {
   "cell_type": "markdown",
   "metadata": {
    "colab_type": "text",
    "id": "nBwpKop7j8HH"
   },
   "source": [
    "Найти медиану, моду, математическое ожидание, стандартное отклонение,  дисперсию, минимум и максимум, найти выбросы (если есть), размах для колонки Freedom"
   ]
  },
  {
   "cell_type": "code",
   "execution_count": 136,
   "metadata": {},
   "outputs": [
    {
     "data": {
      "text/plain": [
       "78.0"
      ]
     },
     "execution_count": 136,
     "metadata": {},
     "output_type": "execute_result"
    }
   ],
   "source": [
    "# найдем медиану\n",
    "statistics.median(a['Freedom'])"
   ]
  },
  {
   "cell_type": "code",
   "execution_count": 135,
   "metadata": {},
   "outputs": [
    {
     "data": {
      "text/plain": [
       "78.0"
      ]
     },
     "execution_count": 135,
     "metadata": {},
     "output_type": "execute_result"
    }
   ],
   "source": [
    "#найдем математическое ожидание.\n",
    "statistics.mean(a.Freedom)"
   ]
  },
  {
   "cell_type": "code",
   "execution_count": 129,
   "metadata": {},
   "outputs": [
    {
     "data": {
      "text/plain": [
       "44.74371464239419"
      ]
     },
     "execution_count": 129,
     "metadata": {},
     "output_type": "execute_result"
    }
   ],
   "source": [
    "# Найдем стандартное отклонение\n",
    "statistics.pstdev(a['Freedom'])"
   ]
  },
  {
   "cell_type": "code",
   "execution_count": 130,
   "metadata": {},
   "outputs": [
    {
     "data": {
      "text/plain": [
       "2002.0"
      ]
     },
     "execution_count": 130,
     "metadata": {},
     "output_type": "execute_result"
    }
   ],
   "source": [
    "# найдем дисперсию\n",
    "statistics.pvariance(a.Freedom)"
   ]
  },
  {
   "cell_type": "code",
   "execution_count": 131,
   "metadata": {},
   "outputs": [
    {
     "data": {
      "text/plain": [
       "1.0"
      ]
     },
     "execution_count": 131,
     "metadata": {},
     "output_type": "execute_result"
    }
   ],
   "source": [
    "# найдем минимум\n",
    "a.Freedom.min()"
   ]
  },
  {
   "cell_type": "code",
   "execution_count": 132,
   "metadata": {},
   "outputs": [
    {
     "data": {
      "text/plain": [
       "155.0"
      ]
     },
     "execution_count": 132,
     "metadata": {},
     "output_type": "execute_result"
    }
   ],
   "source": [
    "# найдем максимум\n",
    "a.Freedom.max()"
   ]
  },
  {
   "cell_type": "code",
   "execution_count": 21,
   "metadata": {},
   "outputs": [
    {
     "data": {
      "text/html": [
       "<div>\n",
       "<style scoped>\n",
       "    .dataframe tbody tr th:only-of-type {\n",
       "        vertical-align: middle;\n",
       "    }\n",
       "\n",
       "    .dataframe tbody tr th {\n",
       "        vertical-align: top;\n",
       "    }\n",
       "\n",
       "    .dataframe thead th {\n",
       "        text-align: right;\n",
       "    }\n",
       "</style>\n",
       "<table border=\"1\" class=\"dataframe\">\n",
       "  <thead>\n",
       "    <tr style=\"text-align: right;\">\n",
       "      <th></th>\n",
       "      <th>Country (region)</th>\n",
       "      <th>Ladder</th>\n",
       "      <th>SD of Ladder</th>\n",
       "      <th>Positive affect</th>\n",
       "      <th>Negative affect</th>\n",
       "      <th>Social support</th>\n",
       "      <th>Freedom</th>\n",
       "      <th>Corruption</th>\n",
       "      <th>Generosity</th>\n",
       "      <th>Log of GDP\\nper capita</th>\n",
       "      <th>Healthy life\\nexpectancy</th>\n",
       "    </tr>\n",
       "  </thead>\n",
       "  <tbody>\n",
       "    <tr>\n",
       "      <td>28</td>\n",
       "      <td>Qatar</td>\n",
       "      <td>29</td>\n",
       "      <td>86</td>\n",
       "      <td>NaN</td>\n",
       "      <td>NaN</td>\n",
       "      <td>NaN</td>\n",
       "      <td>NaN</td>\n",
       "      <td>NaN</td>\n",
       "      <td>NaN</td>\n",
       "      <td>1.0</td>\n",
       "      <td>43.0</td>\n",
       "    </tr>\n",
       "  </tbody>\n",
       "</table>\n",
       "</div>"
      ],
      "text/plain": [
       "   Country (region)  Ladder  SD of Ladder  Positive affect  Negative affect  \\\n",
       "28            Qatar      29            86              NaN              NaN   \n",
       "\n",
       "    Social support  Freedom  Corruption  Generosity  Log of GDP\\nper capita  \\\n",
       "28             NaN      NaN         NaN         NaN                     1.0   \n",
       "\n",
       "    Healthy life\\nexpectancy  \n",
       "28                      43.0  "
      ]
     },
     "execution_count": 21,
     "metadata": {},
     "output_type": "execute_result"
    }
   ],
   "source": [
    "# найдем выбросы: пустые значения. Т.к. это равномерное распределение, то не должно быть выбросов, кроме пустых значений.\n",
    "df.Freedom.isnull().sum()\n",
    "# посмотрим, что это за значение. В начале мы сформировали даные без этого столбца\n",
    "df[pd.isnull(df.Freedom)]"
   ]
  },
  {
   "cell_type": "code",
   "execution_count": 137,
   "metadata": {},
   "outputs": [
    {
     "name": "stdout",
     "output_type": "stream",
     "text": [
      "154.0\n"
     ]
    }
   ],
   "source": [
    "# найдем размах\n",
    "\n",
    "print(a.Freedom.max() - a.Freedom.min())"
   ]
  },
  {
   "cell_type": "code",
   "execution_count": 138,
   "metadata": {
    "colab": {},
    "colab_type": "code",
    "id": "yjqwOGyskPXw",
    "scrolled": true
   },
   "outputs": [
    {
     "ename": "StatisticsError",
     "evalue": "no unique mode; found 155 equally common values",
     "output_type": "error",
     "traceback": [
      "\u001b[1;31m---------------------------------------------------------------------------\u001b[0m",
      "\u001b[1;31mStatisticsError\u001b[0m                           Traceback (most recent call last)",
      "\u001b[1;32m<ipython-input-138-ac5dcb63bf8d>\u001b[0m in \u001b[0;36m<module>\u001b[1;34m\u001b[0m\n\u001b[0;32m      1\u001b[0m \u001b[1;31m# найдем моду\u001b[0m\u001b[1;33m\u001b[0m\u001b[1;33m\u001b[0m\u001b[1;33m\u001b[0m\u001b[0m\n\u001b[1;32m----> 2\u001b[1;33m \u001b[0mstatistics\u001b[0m\u001b[1;33m.\u001b[0m\u001b[0mmode\u001b[0m\u001b[1;33m(\u001b[0m\u001b[0ma\u001b[0m\u001b[1;33m[\u001b[0m\u001b[1;34m'Freedom'\u001b[0m\u001b[1;33m]\u001b[0m\u001b[1;33m)\u001b[0m\u001b[1;33m\u001b[0m\u001b[1;33m\u001b[0m\u001b[0m\n\u001b[0m",
      "\u001b[1;32m~\\Anaconda3\\lib\\statistics.py\u001b[0m in \u001b[0;36mmode\u001b[1;34m(data)\u001b[0m\n\u001b[0;32m    504\u001b[0m     \u001b[1;32melif\u001b[0m \u001b[0mtable\u001b[0m\u001b[1;33m:\u001b[0m\u001b[1;33m\u001b[0m\u001b[1;33m\u001b[0m\u001b[0m\n\u001b[0;32m    505\u001b[0m         raise StatisticsError(\n\u001b[1;32m--> 506\u001b[1;33m                 \u001b[1;34m'no unique mode; found %d equally common values'\u001b[0m \u001b[1;33m%\u001b[0m \u001b[0mlen\u001b[0m\u001b[1;33m(\u001b[0m\u001b[0mtable\u001b[0m\u001b[1;33m)\u001b[0m\u001b[1;33m\u001b[0m\u001b[1;33m\u001b[0m\u001b[0m\n\u001b[0m\u001b[0;32m    507\u001b[0m                 )\n\u001b[0;32m    508\u001b[0m     \u001b[1;32melse\u001b[0m\u001b[1;33m:\u001b[0m\u001b[1;33m\u001b[0m\u001b[1;33m\u001b[0m\u001b[0m\n",
      "\u001b[1;31mStatisticsError\u001b[0m: no unique mode; found 155 equally common values"
     ]
    }
   ],
   "source": [
    "# найдем моду\n",
    "statistics.mode(a['Freedom'])"
   ]
  },
  {
   "cell_type": "markdown",
   "metadata": {
    "colab_type": "text",
    "id": "9pkdmtzkA3aH"
   },
   "source": [
    "Почему нельзя найти моду?"
   ]
  },
  {
   "cell_type": "code",
   "execution_count": 0,
   "metadata": {
    "colab": {},
    "colab_type": "code",
    "id": "dWmqZe7XA6Sx"
   },
   "outputs": [],
   "source": [
    "# моду нельзя найти потому что у нас в колонке Freedom нет повторяющихся значений"
   ]
  },
  {
   "cell_type": "code",
   "execution_count": 139,
   "metadata": {},
   "outputs": [
    {
     "data": {
      "text/plain": [
       "155"
      ]
     },
     "execution_count": 139,
     "metadata": {},
     "output_type": "execute_result"
    }
   ],
   "source": [
    "# проверим предположение об уникальности значений в столбце\n",
    "len(a['Freedom'].unique())"
   ]
  },
  {
   "cell_type": "markdown",
   "metadata": {
    "colab_type": "text",
    "id": "U-7gpfzukf9l"
   },
   "source": [
    "Посмотреть корреляцию между Freedom и positive affect (графически и математически). Графически - plt.scatter, математически - посчитать коэффициент Пирсона. О чем говорит знак коэффициента?"
   ]
  },
  {
   "cell_type": "code",
   "execution_count": 114,
   "metadata": {},
   "outputs": [
    {
     "name": "stdout",
     "output_type": "stream",
     "text": [
      "Коэффициент корреляции Пирсона: 0.6817698430601657\n"
     ]
    },
    {
     "data": {
      "image/png": "[encoded data removed]",
      "text/plain": [
       "<Figure size 432x288 with 1 Axes>"
      ]
     },
     "metadata": {
      "needs_background": "light"
     },
     "output_type": "display_data"
    }
   ],
   "source": [
    "# посмотрим корреляцию между Freedom и positive affect математически и графически, посчитаем коэффициент Пирсона\n",
    "from scipy.stats import pearsonr\n",
    "\n",
    "x = a['Freedom']\n",
    "y = a['Positive affect']\n",
    "\n",
    "corr, p_value = pearsonr(x, y)\n",
    "plt.scatter(x, y, marker='.', c = 'red')\n",
    "print('Коэффициент корреляции Пирсона:', corr)\n",
    "\n",
    "# Данные показывают наличие прямой корреляции. т.е. с ростом одной переменной, растет и другая."
   ]
  },
  {
   "cell_type": "markdown",
   "metadata": {
    "colab_type": "text",
    "id": "D6nsF28EksAu"
   },
   "source": [
    "Нормализовать данные колонки Freedom (централизация + масштабирование)"
   ]
  },
  {
   "cell_type": "code",
   "execution_count": 115,
   "metadata": {
    "colab": {},
    "colab_type": "code",
    "id": "-OxSDHuXkywQ",
    "scrolled": true
   },
   "outputs": [
    {
     "name": "stdout",
     "output_type": "stream",
     "text": [
      "[-1.]\n",
      "[1.]\n"
     ]
    }
   ],
   "source": [
    "from sklearn import preprocessing\n",
    "freedom = a.Freedom\n",
    "freedom_1 = freedom - statistics.mean(freedom)\n",
    "min_max_scaler = preprocessing.MinMaxScaler(feature_range=(-1,1))\n",
    "\n",
    "freedom_2 = min_max_scaler.fit_transform(np.array(freedom_1).reshape(-1, 1))\n",
    "print(min(freedom_2))\n",
    "print(max(freedom_2))\n"
   ]
  },
  {
   "cell_type": "code",
   "execution_count": 112,
   "metadata": {},
   "outputs": [
    {
     "data": {
      "text/plain": [
       "78.0"
      ]
     },
     "execution_count": 112,
     "metadata": {},
     "output_type": "execute_result"
    }
   ],
   "source": [
    "statistics.mean(a.Freedom)"
   ]
  },
  {
   "cell_type": "markdown",
   "metadata": {
    "colab_type": "text",
    "id": "4eOPS6fpkzKO"
   },
   "source": [
    "Построить матрицу корреляций для всех колонок таблицы"
   ]
  },
  {
   "cell_type": "code",
   "execution_count": 80,
   "metadata": {
    "colab": {},
    "colab_type": "code",
    "id": "M4eCTmwtlCzY",
    "scrolled": false
   },
   "outputs": [
    {
     "data": {
      "image/png": "[encoded data removed]",
      "text/plain": [
       "<Figure size 792x792 with 2 Axes>"
      ]
     },
     "metadata": {
      "needs_background": "light"
     },
     "output_type": "display_data"
    }
   ],
   "source": [
    "import seaborn as sns\n",
    "sns.heatmap(a.corr(),annot=True,cmap='RdYlGn',linewidths=0.2)\n",
    "fig=plt.gcf()\n",
    "fig.set_size_inches(11,11)\n",
    "plt.show()\n"
   ]
  },
  {
   "cell_type": "markdown",
   "metadata": {
    "colab_type": "text",
    "id": "RAbZRTRG2Ci0"
   },
   "source": [
    "Загрузить таблицу цен на авокадо: "
   ]
  },
  {
   "cell_type": "code",
   "execution_count": 87,
   "metadata": {
    "colab": {
     "base_uri": "https://localhost:8080/",
     "height": 210
    },
    "colab_type": "code",
    "id": "gmgMOe_e2H-_",
    "outputId": "660725cd-b466-4ee4-f374-6f0d94c589ef"
   },
   "outputs": [
    {
     "data": {
      "text/html": [
       "<div>\n",
       "<style scoped>\n",
       "    .dataframe tbody tr th:only-of-type {\n",
       "        vertical-align: middle;\n",
       "    }\n",
       "\n",
       "    .dataframe tbody tr th {\n",
       "        vertical-align: top;\n",
       "    }\n",
       "\n",
       "    .dataframe thead th {\n",
       "        text-align: right;\n",
       "    }\n",
       "</style>\n",
       "<table border=\"1\" class=\"dataframe\">\n",
       "  <thead>\n",
       "    <tr style=\"text-align: right;\">\n",
       "      <th></th>\n",
       "      <th>Unnamed: 0</th>\n",
       "      <th>Date</th>\n",
       "      <th>AveragePrice</th>\n",
       "      <th>Total Volume</th>\n",
       "      <th>4046</th>\n",
       "      <th>4225</th>\n",
       "      <th>4770</th>\n",
       "      <th>Total Bags</th>\n",
       "      <th>Small Bags</th>\n",
       "      <th>Large Bags</th>\n",
       "      <th>XLarge Bags</th>\n",
       "      <th>type</th>\n",
       "      <th>year</th>\n",
       "      <th>region</th>\n",
       "    </tr>\n",
       "  </thead>\n",
       "  <tbody>\n",
       "    <tr>\n",
       "      <td>0</td>\n",
       "      <td>0</td>\n",
       "      <td>2015-12-27</td>\n",
       "      <td>1.33</td>\n",
       "      <td>64236.62</td>\n",
       "      <td>1036.74</td>\n",
       "      <td>54454.85</td>\n",
       "      <td>48.16</td>\n",
       "      <td>8696.87</td>\n",
       "      <td>8603.62</td>\n",
       "      <td>93.25</td>\n",
       "      <td>0.0</td>\n",
       "      <td>conventional</td>\n",
       "      <td>2015</td>\n",
       "      <td>Albany</td>\n",
       "    </tr>\n",
       "    <tr>\n",
       "      <td>1</td>\n",
       "      <td>1</td>\n",
       "      <td>2015-12-20</td>\n",
       "      <td>1.35</td>\n",
       "      <td>54876.98</td>\n",
       "      <td>674.28</td>\n",
       "      <td>44638.81</td>\n",
       "      <td>58.33</td>\n",
       "      <td>9505.56</td>\n",
       "      <td>9408.07</td>\n",
       "      <td>97.49</td>\n",
       "      <td>0.0</td>\n",
       "      <td>conventional</td>\n",
       "      <td>2015</td>\n",
       "      <td>Albany</td>\n",
       "    </tr>\n",
       "    <tr>\n",
       "      <td>2</td>\n",
       "      <td>2</td>\n",
       "      <td>2015-12-13</td>\n",
       "      <td>0.93</td>\n",
       "      <td>118220.22</td>\n",
       "      <td>794.70</td>\n",
       "      <td>109149.67</td>\n",
       "      <td>130.50</td>\n",
       "      <td>8145.35</td>\n",
       "      <td>8042.21</td>\n",
       "      <td>103.14</td>\n",
       "      <td>0.0</td>\n",
       "      <td>conventional</td>\n",
       "      <td>2015</td>\n",
       "      <td>Albany</td>\n",
       "    </tr>\n",
       "  </tbody>\n",
       "</table>\n",
       "</div>"
      ],
      "text/plain": [
       "   Unnamed: 0        Date  AveragePrice  Total Volume     4046       4225  \\\n",
       "0           0  2015-12-27          1.33      64236.62  1036.74   54454.85   \n",
       "1           1  2015-12-20          1.35      54876.98   674.28   44638.81   \n",
       "2           2  2015-12-13          0.93     118220.22   794.70  109149.67   \n",
       "\n",
       "     4770  Total Bags  Small Bags  Large Bags  XLarge Bags          type  \\\n",
       "0   48.16     8696.87     8603.62       93.25          0.0  conventional   \n",
       "1   58.33     9505.56     9408.07       97.49          0.0  conventional   \n",
       "2  130.50     8145.35     8042.21      103.14          0.0  conventional   \n",
       "\n",
       "   year  region  \n",
       "0  2015  Albany  \n",
       "1  2015  Albany  \n",
       "2  2015  Albany  "
      ]
     },
     "execution_count": 87,
     "metadata": {},
     "output_type": "execute_result"
    }
   ],
   "source": [
    "import io\n",
    "import requests\n",
    "#url=\"http://yustiks.ru/avocado.csv\"\n",
    "df_1=pd.read_csv('avocado.csv')\n",
    "df_1[:3]"
   ]
  },
  {
   "cell_type": "markdown",
   "metadata": {
    "colab_type": "text",
    "id": "QmBGvAQKlkwq"
   },
   "source": [
    "Сделать частотный график колонки AveragePrice. Какое это распределение?"
   ]
  },
  {
   "cell_type": "code",
   "execution_count": 151,
   "metadata": {},
   "outputs": [
    {
     "name": "stdout",
     "output_type": "stream",
     "text": [
      "<class 'pandas.core.frame.DataFrame'>\n",
      "RangeIndex: 18249 entries, 0 to 18248\n",
      "Data columns (total 14 columns):\n",
      "Unnamed: 0      18249 non-null int64\n",
      "Date            18249 non-null object\n",
      "AveragePrice    18249 non-null float64\n",
      "Total Volume    18249 non-null float64\n",
      "4046            18249 non-null float64\n",
      "4225            18249 non-null float64\n",
      "4770            18249 non-null float64\n",
      "Total Bags      18249 non-null float64\n",
      "Small Bags      18249 non-null float64\n",
      "Large Bags      18249 non-null float64\n",
      "XLarge Bags     18249 non-null float64\n",
      "type            18249 non-null object\n",
      "year            18249 non-null int64\n",
      "region          18249 non-null object\n",
      "dtypes: float64(9), int64(2), object(3)\n",
      "memory usage: 1.9+ MB\n"
     ]
    }
   ],
   "source": [
    "df_1.info()"
   ]
  },
  {
   "cell_type": "code",
   "execution_count": 109,
   "metadata": {
    "colab": {},
    "colab_type": "code",
    "id": "Und8GJxWlqIy"
   },
   "outputs": [
    {
     "data": {
      "image/png": "[encoded data removed]",
      "text/plain": [
       "<Figure size 432x288 with 1 Axes>"
      ]
     },
     "metadata": {
      "needs_background": "light"
     },
     "output_type": "display_data"
    }
   ],
   "source": [
    "plt.hist(df_1['AveragePrice'], 10, facecolor='aqua',alpha=0.4)\n",
    "\n",
    "plt.xlabel('frequency')\n",
    "plt.ylabel('Average Price')\n",
    "plt.title('Частотный график Average Price')\n",
    "plt.show()"
   ]
  },
  {
   "cell_type": "markdown",
   "metadata": {
    "colab_type": "text",
    "id": "mCi-XdIAlrD4"
   },
   "source": [
    "Найти корреляцию в следующих колонках:"
   ]
  },
  {
   "cell_type": "markdown",
   "metadata": {
    "colab_type": "text",
    "id": "zR3V0X_T1_4Y"
   },
   "source": [
    "колонкой 4046, 4225, 4770 и Average Price. Если корелляция есть (обратная или прямая), то какие выводы можно сделать?"
   ]
  },
  {
   "cell_type": "code",
   "execution_count": 162,
   "metadata": {
    "colab": {},
    "colab_type": "code",
    "id": "RkPfhTovlvtk"
   },
   "outputs": [
    {
     "data": {
      "image/png": "[encoded data removed]",
      "text/plain": [
       "<Figure size 432x288 with 1 Axes>"
      ]
     },
     "metadata": {
      "needs_background": "light"
     },
     "output_type": "display_data"
    }
   ],
   "source": [
    "# корреляция между Average Price и колонкой 4046\n",
    "plt.hist(df_1['4046'], 10, facecolor='red',alpha=0.6)\n",
    "plt.xlabel('frequency')\n",
    "plt.ylabel('avocado 4046')\n",
    "plt.title('Частотный график avocado 4046')\n",
    "plt.show()"
   ]
  },
  {
   "cell_type": "code",
   "execution_count": 158,
   "metadata": {},
   "outputs": [
    {
     "name": "stdout",
     "output_type": "stream",
     "text": [
      "Коэффициент корреляции Пирсона: -0.20831704848788474\n"
     ]
    },
    {
     "data": {
      "image/png": "[encoded data removed]",
      "text/plain": [
       "<Figure size 432x288 with 1 Axes>"
      ]
     },
     "metadata": {
      "needs_background": "light"
     },
     "output_type": "display_data"
    }
   ],
   "source": [
    "corr, p_value = pearsonr(df_1['AveragePrice'], df_1['4046'])\n",
    "plt.scatter(df_1['AveragePrice'],df_1['4046'], marker='.', c = 'g')\n",
    "plt.xlabel('Average Price')\n",
    "plt.ylabel('avocado 4046')\n",
    "plt.title('График корреляции')\n",
    "\n",
    "print('Коэффициент корреляции Пирсона:', corr)\n",
    "plt.show()\n",
    "\n",
    "# коэффициент корреляции небольшой и отрицательный, корреляция обратная. Связь средней силы, чем больше цена, тем меньше покупают авокадо 4046."
   ]
  },
  {
   "cell_type": "code",
   "execution_count": 159,
   "metadata": {},
   "outputs": [
    {
     "name": "stdout",
     "output_type": "stream",
     "text": [
      "Коэффициент корреляции Пирсона: -0.17292777250933536\n"
     ]
    },
    {
     "data": {
      "image/png": "[encoded data removed]",
      "text/plain": [
       "<Figure size 432x288 with 1 Axes>"
      ]
     },
     "metadata": {
      "needs_background": "light"
     },
     "output_type": "display_data"
    }
   ],
   "source": [
    "# корреляция между Average Price и колонкой 4225\n",
    "corr, p_value = pearsonr(df_1['AveragePrice'], df_1['4225'])\n",
    "plt.scatter(df_1['AveragePrice'],df_1['4225'], marker='.', c = 'g')\n",
    "plt.xlabel('Average Price')\n",
    "plt.ylabel('avocado 4225')\n",
    "plt.title('График корреляции')\n",
    "\n",
    "print('Коэффициент корреляции Пирсона:', corr)\n",
    "plt.show()\n",
    "\n",
    "# коэффициент корреляции небольшой и отрицательный, корреляция обратная. Связь средней силы, чем больше цена, тем меньше покупают авокадо 4225."
   ]
  },
  {
   "cell_type": "code",
   "execution_count": 160,
   "metadata": {},
   "outputs": [
    {
     "name": "stdout",
     "output_type": "stream",
     "text": [
      "Коэффициент корреляции Пирсона: -0.1794459839797562\n"
     ]
    },
    {
     "data": {
      "image/png": "[encoded data removed]",
      "text/plain": [
       "<Figure size 432x288 with 1 Axes>"
      ]
     },
     "metadata": {
      "needs_background": "light"
     },
     "output_type": "display_data"
    }
   ],
   "source": [
    "# корреляция между Average Price и колонкой 4770\n",
    "corr, p_value = pearsonr(df_1['AveragePrice'], df_1['4770'])\n",
    "plt.scatter(df_1['AveragePrice'],df_1['4770'], marker='.', c = 'g')\n",
    "plt.xlabel('Average Price')\n",
    "plt.ylabel('avocado 4770')\n",
    "plt.title('График корреляции')\n",
    "\n",
    "print('Коэффициент корреляции Пирсона:', corr)\n",
    "plt.show()\n",
    "\n",
    "# коэффициент корреляции небольшой и отрицательный, корреляция обратная. Связь средней силы, чем больше цена, тем меньше покупают авокадо 4770."
   ]
  }
 ],
 "metadata": {
  "colab": {
   "include_colab_link": true,
   "name": "dz_1.ipynb",
   "provenance": []
  },
  "kernelspec": {
   "display_name": "Python 3",
   "language": "python",
   "name": "python3"
  },
  "language_info": {
   "codemirror_mode": {
    "name": "ipython",
    "version": 3
   },
   "file_extension": ".py",
   "mimetype": "text/x-python",
   "name": "python",
   "nbconvert_exporter": "python",
   "pygments_lexer": "ipython3",
   "version": "3.7.4"
  }
 },
 "nbformat": 4,
 "nbformat_minor": 1
}
